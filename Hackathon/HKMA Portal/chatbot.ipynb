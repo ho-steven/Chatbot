{
  "cells": [
    {
      "cell_type": "code",
      "execution_count": null,
      "metadata": {
        "colab": {
          "base_uri": "https://localhost:8080/"
        },
        "id": "dJtPkQCZV7Z6",
        "outputId": "9f813c9c-2b9c-4347-8ed1-c8660ff72633"
      },
      "outputs": [
        {
          "output_type": "stream",
          "name": "stdout",
          "text": [
            "Start talking with the bot (type quit to stop)!\n",
            "hi\n",
            "1/1 [==============================] - 0s 310ms/step\n",
            "Hello\n",
            "who are you\n",
            "1/1 [==============================] - 0s 24ms/step\n",
            "You can call me Ted\n",
            "bye\n",
            "1/1 [==============================] - 0s 23ms/step\n",
            "Hello\n",
            "How do I enroll in classes?\n",
            "1/1 [==============================] - 0s 23ms/step\n",
            "To enroll in classes at our university, you will need to log in to your student portal and follow the steps to select and register for your courses. If you have any trouble with the enrollment process, don't hesitate to contact our helpdesk for assistance.\n",
            "enroll?\n",
            "1/1 [==============================] - 0s 24ms/step\n",
            "To enroll in classes at our university, you will need to log in to your student portal and follow the steps to select and register for your courses. If you have any trouble with the enrollment process, don't hesitate to contact our helpdesk for assistance.\n"
          ]
        }
      ],
      "source": [
        "import chatbot"
      ]
    },
    {
      "cell_type": "markdown",
      "metadata": {
        "id": "gPni36bcg1E6"
      },
      "source": [
        "https://github.com/noel-abeje/HelpDesk_ChatBot"
      ]
    },
    {
      "cell_type": "code",
      "execution_count": 2,
      "metadata": {
        "colab": {
          "base_uri": "https://localhost:8080/"
        },
        "id": "Hv91IU7zW8eg",
        "outputId": "4b625869-f290-45c3-a3a6-8f2ba6f196d8"
      },
      "outputs": [
        {
          "output_type": "stream",
          "name": "stderr",
          "text": [
            "[nltk_data] Downloading package punkt to /root/nltk_data...\n",
            "[nltk_data]   Unzipping tokenizers/punkt.zip.\n"
          ]
        },
        {
          "output_type": "execute_result",
          "data": {
            "text/plain": [
              "True"
            ]
          },
          "metadata": {},
          "execution_count": 2
        }
      ],
      "source": [
        "import nltk\n",
        "nltk.download('punkt')"
      ]
    },
    {
      "cell_type": "code",
      "execution_count": 3,
      "metadata": {
        "colab": {
          "base_uri": "https://localhost:8080/"
        },
        "id": "ru6Bf4EYXF_D",
        "outputId": "59b48121-3787-4869-e5bf-377a87f80da2"
      },
      "outputs": [
        {
          "output_type": "stream",
          "name": "stderr",
          "text": [
            "[nltk_data] Downloading package wordnet to /root/nltk_data...\n"
          ]
        },
        {
          "output_type": "execute_result",
          "data": {
            "text/plain": [
              "True"
            ]
          },
          "metadata": {},
          "execution_count": 3
        }
      ],
      "source": [
        "nltk.download('wordnet')"
      ]
    },
    {
      "cell_type": "code",
      "execution_count": 4,
      "metadata": {
        "colab": {
          "base_uri": "https://localhost:8080/"
        },
        "id": "RBEbcmlDXfjn",
        "outputId": "ef979597-1990-4bea-bed6-6b9a558e20a0"
      },
      "outputs": [
        {
          "output_type": "stream",
          "name": "stderr",
          "text": [
            "[nltk_data] Downloading package omw-1.4 to /root/nltk_data...\n"
          ]
        },
        {
          "output_type": "execute_result",
          "data": {
            "text/plain": [
              "True"
            ]
          },
          "metadata": {},
          "execution_count": 4
        }
      ],
      "source": [
        "nltk.download('omw-1.4')"
      ]
    }
  ],
  "metadata": {
    "colab": {
      "provenance": []
    },
    "kernelspec": {
      "display_name": "Python 3",
      "name": "python3"
    },
    "language_info": {
      "name": "python"
    }
  },
  "nbformat": 4,
  "nbformat_minor": 0
}